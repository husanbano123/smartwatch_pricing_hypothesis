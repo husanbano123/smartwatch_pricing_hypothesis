{
 "cells": [
  {
   "cell_type": "code",
   "execution_count": 1,
   "id": "972059b3",
   "metadata": {},
   "outputs": [],
   "source": [
    "import pandas as pd\n",
    "import numpy as np\n",
    "import matplotlib.pyplot as plt\n",
    "import seaborn as sns"
   ]
  },
  {
   "cell_type": "markdown",
   "id": "001eae46",
   "metadata": {},
   "source": [
    "# Step 1:Data Exploration and Preparation\n",
    "\n",
    "This dataset comprises smartwatch pricing information, where prices of smartwatches sold at two different stores are recorded."
   ]
  },
  {
   "cell_type": "code",
   "execution_count": 2,
   "id": "229f5357",
   "metadata": {},
   "outputs": [],
   "source": [
    "#load the dataset\n",
    "data=pd.read_csv(\"C:/Users/Admin/Downloads/SmartwatchPricing_500.csv\")"
   ]
  },
  {
   "cell_type": "code",
   "execution_count": 3,
   "id": "bc62b7dc",
   "metadata": {},
   "outputs": [
    {
     "data": {
      "text/html": [
       "<div>\n",
       "<style scoped>\n",
       "    .dataframe tbody tr th:only-of-type {\n",
       "        vertical-align: middle;\n",
       "    }\n",
       "\n",
       "    .dataframe tbody tr th {\n",
       "        vertical-align: top;\n",
       "    }\n",
       "\n",
       "    .dataframe thead th {\n",
       "        text-align: right;\n",
       "    }\n",
       "</style>\n",
       "<table border=\"1\" class=\"dataframe\">\n",
       "  <thead>\n",
       "    <tr style=\"text-align: right;\">\n",
       "      <th></th>\n",
       "      <th>Store_ID</th>\n",
       "      <th>Price</th>\n",
       "    </tr>\n",
       "  </thead>\n",
       "  <tbody>\n",
       "    <tr>\n",
       "      <th>0</th>\n",
       "      <td>Location_A</td>\n",
       "      <td>178.769439</td>\n",
       "    </tr>\n",
       "    <tr>\n",
       "      <th>1</th>\n",
       "      <td>Location_A</td>\n",
       "      <td>193.690320</td>\n",
       "    </tr>\n",
       "    <tr>\n",
       "      <th>2</th>\n",
       "      <td>Location_A</td>\n",
       "      <td>194.859282</td>\n",
       "    </tr>\n",
       "    <tr>\n",
       "      <th>3</th>\n",
       "      <td>Location_A</td>\n",
       "      <td>187.965841</td>\n",
       "    </tr>\n",
       "    <tr>\n",
       "      <th>4</th>\n",
       "      <td>Location_A</td>\n",
       "      <td>197.580714</td>\n",
       "    </tr>\n",
       "    <tr>\n",
       "      <th>...</th>\n",
       "      <td>...</td>\n",
       "      <td>...</td>\n",
       "    </tr>\n",
       "    <tr>\n",
       "      <th>495</th>\n",
       "      <td>Location_B</td>\n",
       "      <td>202.349754</td>\n",
       "    </tr>\n",
       "    <tr>\n",
       "      <th>496</th>\n",
       "      <td>Location_B</td>\n",
       "      <td>205.951876</td>\n",
       "    </tr>\n",
       "    <tr>\n",
       "      <th>497</th>\n",
       "      <td>Location_B</td>\n",
       "      <td>195.318544</td>\n",
       "    </tr>\n",
       "    <tr>\n",
       "      <th>498</th>\n",
       "      <td>Location_B</td>\n",
       "      <td>203.335601</td>\n",
       "    </tr>\n",
       "    <tr>\n",
       "      <th>499</th>\n",
       "      <td>Location_B</td>\n",
       "      <td>215.659507</td>\n",
       "    </tr>\n",
       "  </tbody>\n",
       "</table>\n",
       "<p>500 rows × 2 columns</p>\n",
       "</div>"
      ],
      "text/plain": [
       "       Store_ID       Price\n",
       "0    Location_A  178.769439\n",
       "1    Location_A  193.690320\n",
       "2    Location_A  194.859282\n",
       "3    Location_A  187.965841\n",
       "4    Location_A  197.580714\n",
       "..          ...         ...\n",
       "495  Location_B  202.349754\n",
       "496  Location_B  205.951876\n",
       "497  Location_B  195.318544\n",
       "498  Location_B  203.335601\n",
       "499  Location_B  215.659507\n",
       "\n",
       "[500 rows x 2 columns]"
      ]
     },
     "execution_count": 3,
     "metadata": {},
     "output_type": "execute_result"
    }
   ],
   "source": [
    "df=pd.DataFrame(data)\n",
    "df"
   ]
  },
  {
   "cell_type": "markdown",
   "id": "46e10e94",
   "metadata": {},
   "source": [
    "Performed a preliminary analysis to understand the structure and content of the dataset. Display the first few rows, summary statistics, and data types of variables."
   ]
  },
  {
   "cell_type": "code",
   "execution_count": 16,
   "id": "c56f2f5e",
   "metadata": {},
   "outputs": [
    {
     "data": {
      "text/html": [
       "<div>\n",
       "<style scoped>\n",
       "    .dataframe tbody tr th:only-of-type {\n",
       "        vertical-align: middle;\n",
       "    }\n",
       "\n",
       "    .dataframe tbody tr th {\n",
       "        vertical-align: top;\n",
       "    }\n",
       "\n",
       "    .dataframe thead th {\n",
       "        text-align: right;\n",
       "    }\n",
       "</style>\n",
       "<table border=\"1\" class=\"dataframe\">\n",
       "  <thead>\n",
       "    <tr style=\"text-align: right;\">\n",
       "      <th></th>\n",
       "      <th>Store_ID</th>\n",
       "      <th>Price</th>\n",
       "      <th>Labeled_Store_ID</th>\n",
       "    </tr>\n",
       "  </thead>\n",
       "  <tbody>\n",
       "    <tr>\n",
       "      <th>0</th>\n",
       "      <td>Location_A</td>\n",
       "      <td>178.769439</td>\n",
       "      <td>0</td>\n",
       "    </tr>\n",
       "    <tr>\n",
       "      <th>1</th>\n",
       "      <td>Location_A</td>\n",
       "      <td>193.690320</td>\n",
       "      <td>0</td>\n",
       "    </tr>\n",
       "    <tr>\n",
       "      <th>2</th>\n",
       "      <td>Location_A</td>\n",
       "      <td>194.859282</td>\n",
       "      <td>0</td>\n",
       "    </tr>\n",
       "    <tr>\n",
       "      <th>3</th>\n",
       "      <td>Location_A</td>\n",
       "      <td>187.965841</td>\n",
       "      <td>0</td>\n",
       "    </tr>\n",
       "    <tr>\n",
       "      <th>4</th>\n",
       "      <td>Location_A</td>\n",
       "      <td>197.580714</td>\n",
       "      <td>0</td>\n",
       "    </tr>\n",
       "  </tbody>\n",
       "</table>\n",
       "</div>"
      ],
      "text/plain": [
       "     Store_ID       Price  Labeled_Store_ID\n",
       "0  Location_A  178.769439                 0\n",
       "1  Location_A  193.690320                 0\n",
       "2  Location_A  194.859282                 0\n",
       "3  Location_A  187.965841                 0\n",
       "4  Location_A  197.580714                 0"
      ]
     },
     "execution_count": 16,
     "metadata": {},
     "output_type": "execute_result"
    }
   ],
   "source": [
    "df.head()"
   ]
  },
  {
   "cell_type": "code",
   "execution_count": 17,
   "id": "c3f3141e",
   "metadata": {},
   "outputs": [
    {
     "data": {
      "text/html": [
       "<div>\n",
       "<style scoped>\n",
       "    .dataframe tbody tr th:only-of-type {\n",
       "        vertical-align: middle;\n",
       "    }\n",
       "\n",
       "    .dataframe tbody tr th {\n",
       "        vertical-align: top;\n",
       "    }\n",
       "\n",
       "    .dataframe thead th {\n",
       "        text-align: right;\n",
       "    }\n",
       "</style>\n",
       "<table border=\"1\" class=\"dataframe\">\n",
       "  <thead>\n",
       "    <tr style=\"text-align: right;\">\n",
       "      <th></th>\n",
       "      <th>Price</th>\n",
       "      <th>Labeled_Store_ID</th>\n",
       "    </tr>\n",
       "  </thead>\n",
       "  <tbody>\n",
       "    <tr>\n",
       "      <th>count</th>\n",
       "      <td>500.000000</td>\n",
       "      <td>500.000000</td>\n",
       "    </tr>\n",
       "    <tr>\n",
       "      <th>mean</th>\n",
       "      <td>205.068193</td>\n",
       "      <td>0.500000</td>\n",
       "    </tr>\n",
       "    <tr>\n",
       "      <th>std</th>\n",
       "      <td>15.412408</td>\n",
       "      <td>0.500501</td>\n",
       "    </tr>\n",
       "    <tr>\n",
       "      <th>min</th>\n",
       "      <td>151.380990</td>\n",
       "      <td>0.000000</td>\n",
       "    </tr>\n",
       "    <tr>\n",
       "      <th>25%</th>\n",
       "      <td>194.941221</td>\n",
       "      <td>0.000000</td>\n",
       "    </tr>\n",
       "    <tr>\n",
       "      <th>50%</th>\n",
       "      <td>204.488990</td>\n",
       "      <td>0.500000</td>\n",
       "    </tr>\n",
       "    <tr>\n",
       "      <th>75%</th>\n",
       "      <td>214.636000</td>\n",
       "      <td>1.000000</td>\n",
       "    </tr>\n",
       "    <tr>\n",
       "      <th>max</th>\n",
       "      <td>257.790972</td>\n",
       "      <td>1.000000</td>\n",
       "    </tr>\n",
       "  </tbody>\n",
       "</table>\n",
       "</div>"
      ],
      "text/plain": [
       "            Price  Labeled_Store_ID\n",
       "count  500.000000        500.000000\n",
       "mean   205.068193          0.500000\n",
       "std     15.412408          0.500501\n",
       "min    151.380990          0.000000\n",
       "25%    194.941221          0.000000\n",
       "50%    204.488990          0.500000\n",
       "75%    214.636000          1.000000\n",
       "max    257.790972          1.000000"
      ]
     },
     "execution_count": 17,
     "metadata": {},
     "output_type": "execute_result"
    }
   ],
   "source": [
    "df.describe()"
   ]
  },
  {
   "cell_type": "code",
   "execution_count": 19,
   "id": "4375786a",
   "metadata": {},
   "outputs": [
    {
     "data": {
      "text/plain": [
       "Store_ID             object\n",
       "Price               float64\n",
       "Labeled_Store_ID      int32\n",
       "dtype: object"
      ]
     },
     "execution_count": 19,
     "metadata": {},
     "output_type": "execute_result"
    }
   ],
   "source": [
    "df.dtypes"
   ]
  },
  {
   "cell_type": "code",
   "execution_count": 20,
   "id": "32d90306",
   "metadata": {},
   "outputs": [
    {
     "data": {
      "text/plain": [
       "Store_ID            0\n",
       "Price               0\n",
       "Labeled_Store_ID    0\n",
       "dtype: int64"
      ]
     },
     "execution_count": 20,
     "metadata": {},
     "output_type": "execute_result"
    }
   ],
   "source": [
    "df.isnull().sum()"
   ]
  },
  {
   "cell_type": "markdown",
   "id": "74f66cff",
   "metadata": {},
   "source": [
    "There is no missing or null value present in this data set.\n"
   ]
  },
  {
   "cell_type": "markdown",
   "id": "5872b762",
   "metadata": {},
   "source": [
    "# 2.Assumption Checking"
   ]
  },
  {
   "cell_type": "code",
   "execution_count": 4,
   "id": "1a115ad6",
   "metadata": {},
   "outputs": [],
   "source": [
    "x=df['Store_ID']\n",
    "y=df['Price']"
   ]
  },
  {
   "cell_type": "code",
   "execution_count": 5,
   "id": "7c73003e",
   "metadata": {},
   "outputs": [
    {
     "data": {
      "image/png": "[encoded data removed]",
      "text/plain": [
       "<Figure size 720x360 with 2 Axes>"
      ]
     },
     "metadata": {
      "needs_background": "light"
     },
     "output_type": "display_data"
    }
   ],
   "source": [
    "plt.figure(figsize=(10,5))\n",
    "plt.subplot(1,2,1)\n",
    "plt.hist(x,color='blue',bins=10)\n",
    "plt.xlabel('store_id')\n",
    "plt.ylabel('count')\n",
    "plt.title(\"'store_ID'\")\n",
    "plt.subplot(1,2,2)\n",
    "plt.hist(y,color='red',bins=10)\n",
    "plt.xlabel('Price')\n",
    "plt.ylabel('Count')\n",
    "plt.title(\"Price\")\n",
    "plt.tight_layout()\n",
    "plt.show()"
   ]
  },
  {
   "cell_type": "markdown",
   "id": "9a98965d",
   "metadata": {},
   "source": [
    "The histogram of the 'Price' column illustrates the distribution of prices for smartwatches in the dataset. The x-axis represents the price range, while the y-axis indicates the frequency or count of smartwatches falling within each price range. The histogram reveals the central tendency and spread of smartwatch prices, providing insights into the pricing structure and variability within the dataset.the shape of this histogram is symmetric."
   ]
  },
  {
   "cell_type": "code",
   "execution_count": 6,
   "id": "1ec35309",
   "metadata": {},
   "outputs": [
    {
     "data": {
      "image/png": "[encoded data removed]",
      "text/plain": [
       "<Figure size 720x360 with 2 Axes>"
      ]
     },
     "metadata": {
      "needs_background": "light"
     },
     "output_type": "display_data"
    }
   ],
   "source": [
    "plt.figure(figsize=(10,5))\n",
    "plt.subplot(1,2,1)\n",
    "sns.histplot(x,kde=True,color='blue',bins=10)\n",
    "plt.xlabel('store_id')\n",
    "plt.ylabel('count')\n",
    "plt.title(\"'store_ID'\")\n",
    "plt.subplot(1,2,2)\n",
    "sns.histplot(y,kde=True,color='red',bins=10)\n",
    "plt.xlabel('Price')\n",
    "plt.ylabel('Count')\n",
    "plt.title(\"Price\")\n",
    "plt.tight_layout()\n",
    "plt.show()"
   ]
  },
  {
   "cell_type": "markdown",
   "id": "78dfa575",
   "metadata": {},
   "source": [
    "The data within each group (i.e., prices at Location A and Location B) are approximately normally distributed."
   ]
  },
  {
   "cell_type": "markdown",
   "id": "f7e1cf6c",
   "metadata": {},
   "source": [
    "# step 3: Statistical Analysis\n",
    "H0= there is no significant difference in Pricing between Location A and Location B stores.\n",
    "\n",
    "H1=there is significant difference in Pricing between Location A and Location B stores.\n"
   ]
  },
  {
   "cell_type": "code",
   "execution_count": 7,
   "id": "d4445721",
   "metadata": {},
   "outputs": [],
   "source": [
    "from scipy import stats\n",
    "from sklearn.preprocessing import LabelEncoder"
   ]
  },
  {
   "cell_type": "code",
   "execution_count": 8,
   "id": "857f8d72",
   "metadata": {},
   "outputs": [],
   "source": [
    "label_coder=LabelEncoder()\n"
   ]
  },
  {
   "cell_type": "code",
   "execution_count": 9,
   "id": "79405b12",
   "metadata": {},
   "outputs": [],
   "source": [
    "df['Labeled_Store_ID']=label_coder.fit_transform(df['Store_ID'])"
   ]
  },
  {
   "cell_type": "code",
   "execution_count": 10,
   "id": "9458c1e5",
   "metadata": {},
   "outputs": [
    {
     "data": {
      "text/html": [
       "<div>\n",
       "<style scoped>\n",
       "    .dataframe tbody tr th:only-of-type {\n",
       "        vertical-align: middle;\n",
       "    }\n",
       "\n",
       "    .dataframe tbody tr th {\n",
       "        vertical-align: top;\n",
       "    }\n",
       "\n",
       "    .dataframe thead th {\n",
       "        text-align: right;\n",
       "    }\n",
       "</style>\n",
       "<table border=\"1\" class=\"dataframe\">\n",
       "  <thead>\n",
       "    <tr style=\"text-align: right;\">\n",
       "      <th></th>\n",
       "      <th>Store_ID</th>\n",
       "      <th>Price</th>\n",
       "      <th>Labeled_Store_ID</th>\n",
       "    </tr>\n",
       "  </thead>\n",
       "  <tbody>\n",
       "    <tr>\n",
       "      <th>0</th>\n",
       "      <td>Location_A</td>\n",
       "      <td>178.769439</td>\n",
       "      <td>0</td>\n",
       "    </tr>\n",
       "    <tr>\n",
       "      <th>1</th>\n",
       "      <td>Location_A</td>\n",
       "      <td>193.690320</td>\n",
       "      <td>0</td>\n",
       "    </tr>\n",
       "    <tr>\n",
       "      <th>2</th>\n",
       "      <td>Location_A</td>\n",
       "      <td>194.859282</td>\n",
       "      <td>0</td>\n",
       "    </tr>\n",
       "    <tr>\n",
       "      <th>3</th>\n",
       "      <td>Location_A</td>\n",
       "      <td>187.965841</td>\n",
       "      <td>0</td>\n",
       "    </tr>\n",
       "    <tr>\n",
       "      <th>4</th>\n",
       "      <td>Location_A</td>\n",
       "      <td>197.580714</td>\n",
       "      <td>0</td>\n",
       "    </tr>\n",
       "    <tr>\n",
       "      <th>...</th>\n",
       "      <td>...</td>\n",
       "      <td>...</td>\n",
       "      <td>...</td>\n",
       "    </tr>\n",
       "    <tr>\n",
       "      <th>495</th>\n",
       "      <td>Location_B</td>\n",
       "      <td>202.349754</td>\n",
       "      <td>1</td>\n",
       "    </tr>\n",
       "    <tr>\n",
       "      <th>496</th>\n",
       "      <td>Location_B</td>\n",
       "      <td>205.951876</td>\n",
       "      <td>1</td>\n",
       "    </tr>\n",
       "    <tr>\n",
       "      <th>497</th>\n",
       "      <td>Location_B</td>\n",
       "      <td>195.318544</td>\n",
       "      <td>1</td>\n",
       "    </tr>\n",
       "    <tr>\n",
       "      <th>498</th>\n",
       "      <td>Location_B</td>\n",
       "      <td>203.335601</td>\n",
       "      <td>1</td>\n",
       "    </tr>\n",
       "    <tr>\n",
       "      <th>499</th>\n",
       "      <td>Location_B</td>\n",
       "      <td>215.659507</td>\n",
       "      <td>1</td>\n",
       "    </tr>\n",
       "  </tbody>\n",
       "</table>\n",
       "<p>500 rows × 3 columns</p>\n",
       "</div>"
      ],
      "text/plain": [
       "       Store_ID       Price  Labeled_Store_ID\n",
       "0    Location_A  178.769439                 0\n",
       "1    Location_A  193.690320                 0\n",
       "2    Location_A  194.859282                 0\n",
       "3    Location_A  187.965841                 0\n",
       "4    Location_A  197.580714                 0\n",
       "..          ...         ...               ...\n",
       "495  Location_B  202.349754                 1\n",
       "496  Location_B  205.951876                 1\n",
       "497  Location_B  195.318544                 1\n",
       "498  Location_B  203.335601                 1\n",
       "499  Location_B  215.659507                 1\n",
       "\n",
       "[500 rows x 3 columns]"
      ]
     },
     "execution_count": 10,
     "metadata": {},
     "output_type": "execute_result"
    }
   ],
   "source": [
    "df"
   ]
  },
  {
   "cell_type": "code",
   "execution_count": 11,
   "id": "117869c0",
   "metadata": {},
   "outputs": [
    {
     "data": {
      "text/plain": [
       "pandas.core.series.Series"
      ]
     },
     "execution_count": 11,
     "metadata": {},
     "output_type": "execute_result"
    }
   ],
   "source": [
    "type(df.Labeled_Store_ID)"
   ]
  },
  {
   "cell_type": "code",
   "execution_count": 12,
   "id": "5a9a8abe",
   "metadata": {},
   "outputs": [],
   "source": [
    "store_id_location_A=df[df['Labeled_Store_ID']==0]['Price']\n",
    "store_id_location_B=df[df['Labeled_Store_ID']==1]['Price']\n",
    "t_statistics1,p_value1=stats.ttest_rel(store_id_location_A,store_id_location_B)"
   ]
  },
  {
   "cell_type": "code",
   "execution_count": 13,
   "id": "5054e78f",
   "metadata": {},
   "outputs": [
    {
     "name": "stdout",
     "output_type": "stream",
     "text": [
      "\n",
      "Paired sample test results:\n",
      "T_statistics: -6.6160907618158555\n",
      "P_value:  2.241274437151076e-10\n"
     ]
    }
   ],
   "source": [
    "print(\"\\nPaired sample test results:\")\n",
    "print(\"T_statistics:\",t_statistics1)\n",
    "print(\"P_value: \",p_value1)\n",
    "alpha=0.05"
   ]
  },
  {
   "cell_type": "code",
   "execution_count": 14,
   "id": "bcdc657b",
   "metadata": {},
   "outputs": [
    {
     "data": {
      "text/plain": [
       "False"
      ]
     },
     "execution_count": 14,
     "metadata": {},
     "output_type": "execute_result"
    }
   ],
   "source": [
    "p_value1>alpha"
   ]
  },
  {
   "cell_type": "markdown",
   "id": "1ee1d7e6",
   "metadata": {},
   "source": [
    "In this analysis, we used a paired sample t-test to compare the mean price difference between Location A and Location B for the same stores. Before conducting the t-test, we encoded the 'Store ID' column using label encoding to represent the locations numerically. By doing so, we could compare the prices of smartwatches across the two locations. The results of the paired sample t-test revealed a statistically significant difference in pricing between Location A and Location B for the same stores."
   ]
  },
  {
   "cell_type": "markdown",
   "id": "853e7188",
   "metadata": {},
   "source": [
    "# step4:conclusion"
   ]
  },
  {
   "cell_type": "markdown",
   "id": "61822757",
   "metadata": {},
   "source": [
    "The null hypothesis(H0) in this case would be that there is no statistically significant difference in the average retail prices between the two store locations.so that we have to reject the null hypothesis and accept the Alternate hypothesis testing."
   ]
  },
  {
   "cell_type": "markdown",
   "id": "2bc197fb",
   "metadata": {},
   "source": [
    "the results of the paired sample t-test underscore the importance of data-driven pricing decisions and the need for retailers to continuously monitor and adapt pricing strategies to local market conditions and consumer preferences. By leveraging insights from pricing analysis, retailers can enhance competitiveness, drive revenue growth, and build stronger relationships with customers across diverse geographic markets."
   ]
  },
  {
   "cell_type": "markdown",
   "id": "06e28b74",
   "metadata": {},
   "source": [
    "# step 5:Assumptions and Limitations"
   ]
  },
  {
   "cell_type": "code",
   "execution_count": 15,
   "id": "366283c4",
   "metadata": {},
   "outputs": [
    {
     "name": "stdout",
     "output_type": "stream",
     "text": [
      "Reject the null hypothesis,suggesting there is a significant difference in pricing between Location A and Location B stores\n",
      "Accept Alternate Hypothesis(H1)\n"
     ]
    }
   ],
   "source": [
    "if p_value1 < alpha:\n",
    "    print(\"Reject the null hypothesis,suggesting there is a significant difference in pricing between Location A and Location B stores\")\n",
    "else:\n",
    "    print(\"Fail to reject the null hypothesis,suggesting there is no significant difference in Pricing between Location A and Location B stores\")\n",
    "print(\"Accept Alternate Hypothesis(H1)\")"
   ]
  },
  {
   "cell_type": "markdown",
   "id": "e0f19c0b",
   "metadata": {},
   "source": [
    "# Assumptions:"
   ]
  },
  {
   "cell_type": "markdown",
   "id": "3f7a8af0",
   "metadata": {},
   "source": [
    "The analysis relies on several key assumptions. \n",
    "1.it assumes that the distribution of prices within each location group (Location A and Location B) is approximately normal. This assumption is crucial for the validity of the paired sample t-test results. \n",
    "2.it assumes independence between paired observations, meaning that the prices of smartwatches at one location are not influenced by prices at the other location. \n",
    "3.the analysis assumes homogeneity of variances, implying that the differences in prices between paired observations are roughly equal across locations. Violation of any of these assumptions could potentially impact the accuracy and reliability of the findings."
   ]
  },
  {
   "cell_type": "markdown",
   "id": "639d11c6",
   "metadata": {},
   "source": [
    "# Limitations:\n",
    "Despite the significant difference observed in pricing between Location A and Location B stores, several limitations must be considered."
   ]
  },
  {
   "cell_type": "markdown",
   "id": "8e728a68",
   "metadata": {},
   "source": [
    "1.Generalizability: Findings may not apply universally to all retail contexts.\n",
    "2.Sample Size: Reliability of results may be influenced by dataset sample size.\n",
    "3.Other Factors: Factors like product features and marketing strategies may confound pricing differences.\n",
    "4.Temporal Effects: Changes in pricing over time were not accounted for.\n",
    "5.Measurement Error: Inaccuracies in price recording may introduce bias.\n",
    "\n",
    "\n"
   ]
  },
  {
   "cell_type": "markdown",
   "id": "5accc536",
   "metadata": {},
   "source": [
    "# step 6:Recomendation"
   ]
  },
  {
   "cell_type": "markdown",
   "id": "db244156",
   "metadata": {},
   "source": [
    "1.To optimize pricing strategies and enhance competitiveness between Location A and Location B stores, it is recommended to tailor pricing approaches to the unique market dynamics of each location.\n",
    "\n",
    "2.Regular monitoring of competitor pricing in both locations is essential to ensure competitiveness and enable timely adjustments.\n",
    "\n",
    "3.Exploration of dynamic pricing algorithms can further facilitate responsiveness to market changes and demand fluctuations.\n",
    "\n",
    "4.Segmenting customers based on behavior and preferences allows for targeted pricing and promotions, maximizing profitability. "
   ]
  },
  {
   "cell_type": "code",
   "execution_count": null,
   "id": "10dc6ed0",
   "metadata": {},
   "outputs": [],
   "source": []
  },
  {
   "cell_type": "code",
   "execution_count": null,
   "id": "16fe53cb",
   "metadata": {},
   "outputs": [],
   "source": []
  }
 ],
 "metadata": {
  "kernelspec": {
   "display_name": "Python 3 (ipykernel)",
   "language": "python",
   "name": "python3"
  },
  "language_info": {
   "codemirror_mode": {
    "name": "ipython",
    "version": 3
   },
   "file_extension": ".py",
   "mimetype": "text/x-python",
   "name": "python",
   "nbconvert_exporter": "python",
   "pygments_lexer": "ipython3",
   "version": "3.9.7"
  }
 },
 "nbformat": 4,
 "nbformat_minor": 5
}
